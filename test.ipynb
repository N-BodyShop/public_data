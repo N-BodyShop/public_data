{
 "cells": [
  {
   "cell_type": "code",
   "execution_count": 1,
   "id": "initial_id",
   "metadata": {
    "ExecuteTime": {
     "end_time": "2024-11-04T18:32:08.018953Z",
     "start_time": "2024-11-04T18:32:04.872963Z"
    },
    "collapsed": true
   },
   "outputs": [
    {
     "name": "stdout",
     "output_type": "stream",
     "text": [
      "[<Simulation(\"cptmarvel.cosmo25cmb.4096g5HbwK1BH\")>]\n"
     ]
    }
   ],
   "source": [
    "import os\n",
    "#os.environ['TANGOS_DB_CONNECTION'] = '/home/bk639/Merians_db/tangos_data1.db'\n",
    "os.environ['TANGOS_DB_CONNECTION'] = '/data/REPOSITORY/public_data/cptmarvel.cosmo25cmb.4096g5HbwK1BH.db'\n",
    "os.environ['TANGOS_SIMULATION_FOLDER'] = '/data/REPOSITORY/public_data'\n",
    "#load tangos database\n",
    "\n",
    "#make sure to only load tangos after setting environment variable otherwise it will see nothing\n",
    "import tangos\n",
    "import pynbody\n",
    "#export TANGOS_DB_CONNECTION=/home/bk639/Merians_db/tangos_data.db\n",
    "# set the environment variable\n",
    "\n",
    "sims = tangos.all_simulations()\n",
    "print(sims)"
   ]
  },
  {
   "cell_type": "code",
   "execution_count": 19,
   "id": "498aa3e82b8c0ac8",
   "metadata": {
    "ExecuteTime": {
     "end_time": "2024-11-04T18:56:35.109910Z",
     "start_time": "2024-11-04T18:56:33.749133Z"
    }
   },
   "outputs": [
    {
     "name": "stdout",
     "output_type": "stream",
     "text": [
      "68.14152826088426\n",
      "66.7707892787689\n",
      "65.404997654468\n",
      "64.03651632163526\n",
      "63.20263776107692\n",
      "62.68429191566169\n",
      "61.19636809211437\n",
      "59.812336576342574\n",
      "58.97996083082774\n",
      "58.487686200055684\n",
      "56.934068700437884\n",
      "55.31893969752278\n",
      "53.61815581976714\n",
      "51.71932280006301\n",
      "50.64922373256455\n",
      "49.735825337106746\n",
      "47.74266922737226\n",
      "45.818733802464145\n",
      "43.73772946176999\n",
      "43.47754463201807\n",
      "41.620795197625576\n"
     ]
    }
   ],
   "source": [
    "timesteps = sims[0].timesteps\n",
    "#get the halos at the last timestep\n",
    "halos = timesteps[-1].halos\n",
    "\n",
    "halo = halos[0]\n",
    "print(halo['max_radius'])\n",
    "for i in range(20):\n",
    "    #get the progenitor of the halo at the previous timesteps\n",
    "    progenitor = halo.calculate(f'earlier({i+1})')\n",
    "    print(progenitor['max_radius'])\n"
   ]
  },
  {
   "cell_type": "code",
   "execution_count": null,
   "id": "5fe83b57afd92221",
   "metadata": {},
   "outputs": [],
   "source": []
  }
 ],
 "metadata": {
  "kernelspec": {
   "display_name": "Python 3",
   "language": "python",
   "name": "python3"
  },
  "language_info": {
   "codemirror_mode": {
    "name": "ipython",
    "version": 2
   },
   "file_extension": ".py",
   "mimetype": "text/x-python",
   "name": "python",
   "nbconvert_exporter": "python",
   "pygments_lexer": "ipython2",
   "version": "2.7.6"
  }
 },
 "nbformat": 4,
 "nbformat_minor": 5
}
